{
 "cells": [
  {
   "attachments": {},
   "cell_type": "markdown",
   "metadata": {},
   "source": [
    "##### Escriba una lista con nombres de personas. Haga algunos experimentos imprimiendo los nombres de los mismos."
   ]
  },
  {
   "cell_type": "code",
   "execution_count": 2,
   "metadata": {},
   "outputs": [
    {
     "name": "stdout",
     "output_type": "stream",
     "text": [
      "Juan\n",
      "['Vicky']\n",
      "['Javi', 'Vicky', 'Juan', 'Pedro']\n"
     ]
    }
   ],
   "source": [
    "amigos = [\"Pedro\", \"Juan\", \"Vicky\", \"Javi\"]\n",
    "print(amigos[1])\n",
    "print(amigos[2:3])\n",
    "print(amigos[::-1])"
   ]
  },
  {
   "attachments": {},
   "cell_type": "markdown",
   "metadata": {},
   "source": [
    "##### Con la lista inicial, escriba a cada uno de ellos un mensaje personalizado.\n"
   ]
  },
  {
   "cell_type": "code",
   "execution_count": 1,
   "metadata": {},
   "outputs": [
    {
     "name": "stdout",
     "output_type": "stream",
     "text": [
      "Hola cómo estas Pedro?\n",
      "A Vicky, Pedro y a mi nos gustaría invitar a Juan y a Javi a comer\n"
     ]
    }
   ],
   "source": [
    "amigos = [\"Pedro\", \"Juan\", \"Vicky\", \"Javi\"]\n",
    "print(f\"Hola cómo estas {amigos[0]}?\")\n",
    "print(f\"A {amigos[2]}, {amigos[0]} y a mi nos gustaría invitar a {amigos[1]} y a {amigos[3]} a comer\")\n"
   ]
  },
  {
   "attachments": {},
   "cell_type": "markdown",
   "metadata": {},
   "source": [
    "##### Haga algún ejercicio añadiendo o quitando elementos de una list."
   ]
  },
  {
   "cell_type": "code",
   "execution_count": 6,
   "metadata": {},
   "outputs": [
    {
     "name": "stdout",
     "output_type": "stream",
     "text": [
      "['Honda', 'Yamaha', 'Ducati', 'Bultaco', 'Kawasaki']\n",
      "['Vespa', 'Yamaha', 'Ducati', 'Bultaco', 'Kawasaki']\n",
      "['Vespa', 'Yamaha', 'Ducati', 'Bultaco', 'Kawasaki', 'Piaggio']\n",
      "['Vespa', 'Yamaha', 'Ducati', 'Bultaco', 'Piaggio']\n",
      "['Vespa', 'Yamaha', 'Kawasaki', 'Ducati', 'Bultaco', 'Piaggio']\n",
      "['Vespa', 'Yamaha', 'Kawasaki', 'Ducati', 'Bultaco']\n",
      "Piaggio\n",
      "['Yamaha', 'Kawasaki', 'Ducati', 'Bultaco']\n",
      "Vespa\n",
      "['Honda', 'Yamaha', 'Bultaco', 'Kawasaki']\n"
     ]
    },
    {
     "ename": "ValueError",
     "evalue": "list.remove(x): x not in list",
     "output_type": "error",
     "traceback": [
      "\u001b[1;31m---------------------------------------------------------------------------\u001b[0m",
      "\u001b[1;31mValueError\u001b[0m                                Traceback (most recent call last)",
      "Cell \u001b[1;32mIn [6], line 27\u001b[0m\n\u001b[0;32m     25\u001b[0m \u001b[39mprint\u001b[39m(motos)\n\u001b[0;32m     26\u001b[0m \u001b[39m#Si el nombre no estuviera en la lista, no da un error\u001b[39;00m\n\u001b[1;32m---> 27\u001b[0m motos\u001b[39m.\u001b[39;49mremove(\u001b[39m\"\u001b[39;49m\u001b[39mBMW\u001b[39;49m\u001b[39m\"\u001b[39;49m)\n",
      "\u001b[1;31mValueError\u001b[0m: list.remove(x): x not in list"
     ]
    }
   ],
   "source": [
    "motos = [\"Honda\", \"Yamaha\", \"Ducati\", \"Bultaco\", \"Kawasaki\"]\n",
    "print(motos)\n",
    "motos[0] = \"Vespa\" #Sustituye el index 0(Honda) con Vespa\n",
    "print(motos)\n",
    "motos.append(\"Piaggio\") #Añade Piaggio al final de lalista\n",
    "print(motos)\n",
    "del motos[4] #Elimina el index 4 de motos (Kawasaki)\n",
    "print(motos)\n",
    "motos.insert(2, \"Kawasaki\") #Inserta Kawasaki en el index 2\n",
    "print(motos)\n",
    "\n",
    "#con el método pop() sacamos de la lista el útimo elemento pero sin borrarlo.\n",
    "popped_motos = motos.pop()\n",
    "print(motos) #Asi queda la lista al sacar al ultimo elemento.\n",
    "print(popped_motos) #Este es el elemento que hemos sacado de la lista.\n",
    "\n",
    "#Podemos sacar elementos del index que queramos si incluimos este entre los paréntesis\n",
    "popped_motos_2 = motos.pop(0) #Sacamos de la lista el elemento en index 0 (Vespa)\n",
    "print(motos) #Asi queda la lista\n",
    "print(popped_motos_2) #Elemendo sacado\n",
    "\n",
    "#Remove() se usa para eliminar un elemento del que desconocemos su index\n",
    "motos = [\"Honda\", \"Yamaha\", \"Ducati\", \"Bultaco\", \"Kawasaki\"]\n",
    "motos.remove(\"Ducati\") #Eliminamos Ducati independientemente de donde esté\n",
    "print(motos)\n",
    "#Si el nombre no estuviera en la lista, no da un error tipo (ValueError)\n",
    "#el elemento no se encuentra en la lista\n",
    "motos.remove(\"BMW\")\n"
   ]
  },
  {
   "cell_type": "code",
   "execution_count": 7,
   "metadata": {},
   "outputs": [
    {
     "name": "stdout",
     "output_type": "stream",
     "text": [
      "['Honda', 'Yamaha', 'Bultaco', 'Kawasaki']\n",
      "Hemos eliminado la moto marca Ducati porque es demasiado cara\n"
     ]
    }
   ],
   "source": [
    "#Usando la lista anterior, vamos a tomar en una variable uno de los modelos de moto.\n",
    "#Ese valor lo vamos a eliminar con el método remove(), y vamos a imprimir una frase,\n",
    "#que indique que el modelo X lo hemos eliminado porque es muy caro.\n",
    "\n",
    "motos = [\"Honda\", \"Yamaha\", \"Ducati\", \"Bultaco\", \"Kawasaki\"]\n",
    "moto_eliminada = (\"Ducati\")\n",
    "motos.remove(\"Ducati\")\n",
    "print(motos)\n",
    "print(f\"Hemos eliminado la moto marca {moto_eliminada} porque es demasiado cara\")"
   ]
  },
  {
   "cell_type": "code",
   "execution_count": 9,
   "metadata": {},
   "outputs": [
    {
     "name": "stdout",
     "output_type": "stream",
     "text": [
      "['Honda', 'fail', 'Yamaha', 'fail', 'Ducati', 'fail', 'Bultaco', 'fail', 'Kawasaki', 'fail']\n",
      "Fin\n",
      "['Honda', 'Yamaha', 'Ducati', 'Bultaco', 'Kawasaki']\n"
     ]
    }
   ],
   "source": [
    "#El método fail solo elimina el primer elemento encontrado que coincida con lo que ingresamos en los paréntesis.\n",
    "#si tenemos elementos repetidos y queremos eliminarlos, tenemos que incluir el método remove() dentro de un bucle.\n",
    "#Tenemos una lista llena de elementos repetidos no deseados. Vamos a eliminaarlos con el método remove().\n",
    "\n",
    "motos = [\"Honda\", \"fail\", \"Yamaha\", \"fail\", \"Ducati\", \"fail\", \"Bultaco\", \"fail\", \"Kawasaki\", \"fail\"]\n",
    "print(motos)\n",
    "while \"fail\" in motos:\n",
    "    motos.remove(\"fail\")\n",
    "print(\"Fin\")\n",
    "print(motos)"
   ]
  }
 ],
 "metadata": {
  "kernelspec": {
   "display_name": "Python 3",
   "language": "python",
   "name": "python3"
  },
  "language_info": {
   "codemirror_mode": {
    "name": "ipython",
    "version": 3
   },
   "file_extension": ".py",
   "mimetype": "text/x-python",
   "name": "python",
   "nbconvert_exporter": "python",
   "pygments_lexer": "ipython3",
   "version": "3.10.9"
  },
  "orig_nbformat": 4,
  "vscode": {
   "interpreter": {
    "hash": "c40c2e94b44540d55f16bcb7a9e45ade0708cf295825c98f3d38101cabba3f32"
   }
  }
 },
 "nbformat": 4,
 "nbformat_minor": 2
}
